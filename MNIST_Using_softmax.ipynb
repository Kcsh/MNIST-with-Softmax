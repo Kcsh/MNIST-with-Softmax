{
  "nbformat": 4,
  "nbformat_minor": 0,
  "metadata": {
    "colab": {
      "name": "MNIST Using softmax.ipynb",
      "version": "0.3.2",
      "views": {},
      "default_view": {},
      "provenance": [],
      "collapsed_sections": []
    },
    "kernelspec": {
      "name": "python3",
      "display_name": "Python 3"
    }
  },
  "cells": [
    {
      "metadata": {
        "id": "0IaKch2XJvLL",
        "colab_type": "code",
        "colab": {
          "autoexec": {
            "startup": false,
            "wait_interval": 0
          },
          "base_uri": "https://localhost:8080/",
          "height": 34
        },
        "outputId": "18cc0fbe-f567-47ef-9482-dfacc4b9a418",
        "executionInfo": {
          "status": "ok",
          "timestamp": 1527370873793,
          "user_tz": 240,
          "elapsed": 445,
          "user": {
            "displayName": "Kashish Patel",
            "photoUrl": "//lh5.googleusercontent.com/-sWzHMChrTbM/AAAAAAAAAAI/AAAAAAAABgM/VMzy12eB4jE/s50-c-k-no/photo.jpg",
            "userId": "107222208140970485188"
          }
        }
      },
      "cell_type": "code",
      "source": [
        "import tensorflow as tf\n",
        "import numpy as np\n",
        "import matplotlib.pyplot as plt\n",
        "from sklearn.metrics import confusion_matrix\n",
        "tf.__version__"
      ],
      "execution_count": 3,
      "outputs": [
        {
          "output_type": "execute_result",
          "data": {
            "text/plain": [
              "'1.8.0'"
            ]
          },
          "metadata": {
            "tags": []
          },
          "execution_count": 3
        }
      ]
    },
    {
      "metadata": {
        "id": "Rwprn7XVZSB4",
        "colab_type": "code",
        "colab": {
          "autoexec": {
            "startup": false,
            "wait_interval": 0
          },
          "base_uri": "https://localhost:8080/",
          "height": 85
        },
        "outputId": "6bae2187-17e1-49c1-baea-0526af425ef7",
        "executionInfo": {
          "status": "ok",
          "timestamp": 1527376122325,
          "user_tz": 240,
          "elapsed": 720,
          "user": {
            "displayName": "Kashish Patel",
            "photoUrl": "//lh5.googleusercontent.com/-sWzHMChrTbM/AAAAAAAAAAI/AAAAAAAABgM/VMzy12eB4jE/s50-c-k-no/photo.jpg",
            "userId": "107222208140970485188"
          }
        }
      },
      "cell_type": "code",
      "source": [
        "#import MNIST\n",
        "from tensorflow.examples.tutorials.mnist import input_data\n",
        "mnist = input_data.read_data_sets('MNIST_data', one_hot=True)\n"
      ],
      "execution_count": 26,
      "outputs": [
        {
          "output_type": "stream",
          "text": [
            "Extracting MNIST_data/train-images-idx3-ubyte.gz\n",
            "Extracting MNIST_data/train-labels-idx1-ubyte.gz\n",
            "Extracting MNIST_data/t10k-images-idx3-ubyte.gz\n",
            "Extracting MNIST_data/t10k-labels-idx1-ubyte.gz\n"
          ],
          "name": "stdout"
        }
      ]
    },
    {
      "metadata": {
        "id": "Ll3N4tqHZwV6",
        "colab_type": "code",
        "colab": {
          "autoexec": {
            "startup": false,
            "wait_interval": 0
          },
          "base_uri": "https://localhost:8080/",
          "height": 68
        },
        "outputId": "af745c1a-2311-4044-c8d4-014741a2fda1",
        "executionInfo": {
          "status": "ok",
          "timestamp": 1527376138336,
          "user_tz": 240,
          "elapsed": 425,
          "user": {
            "displayName": "Kashish Patel",
            "photoUrl": "//lh5.googleusercontent.com/-sWzHMChrTbM/AAAAAAAAAAI/AAAAAAAABgM/VMzy12eB4jE/s50-c-k-no/photo.jpg",
            "userId": "107222208140970485188"
          }
        }
      },
      "cell_type": "code",
      "source": [
        "#size \n",
        "#train test split size\n",
        "\n",
        "print(\"Dataset\")\n",
        "print(\"Train set :{}\".format(len(\"mnist.train.images\")))\n",
        "print(\"Test set :{}\".format(len(\"minist.test.images\")))\n",
        "\n",
        "\n"
      ],
      "execution_count": 28,
      "outputs": [
        {
          "output_type": "stream",
          "text": [
            "Dataset\n",
            "Train set :18\n",
            "Test set :18\n"
          ],
          "name": "stdout"
        }
      ]
    },
    {
      "metadata": {
        "id": "5ij1DX0ynj10",
        "colab_type": "code",
        "colab": {
          "autoexec": {
            "startup": false,
            "wait_interval": 0
          },
          "base_uri": "https://localhost:8080/",
          "height": 170
        },
        "outputId": "12731091-b9f6-4529-e34e-3b1a750b42ff",
        "executionInfo": {
          "status": "ok",
          "timestamp": 1527376239373,
          "user_tz": 240,
          "elapsed": 250,
          "user": {
            "displayName": "Kashish Patel",
            "photoUrl": "//lh5.googleusercontent.com/-sWzHMChrTbM/AAAAAAAAAAI/AAAAAAAABgM/VMzy12eB4jE/s50-c-k-no/photo.jpg",
            "userId": "107222208140970485188"
          }
        }
      },
      "cell_type": "code",
      "source": [
        "#one-hot encoding display\n",
        "mnist.test.labels[:9]"
      ],
      "execution_count": 30,
      "outputs": [
        {
          "output_type": "execute_result",
          "data": {
            "text/plain": [
              "array([[0., 0., 0., 0., 0., 0., 0., 1., 0., 0.],\n",
              "       [0., 0., 1., 0., 0., 0., 0., 0., 0., 0.],\n",
              "       [0., 1., 0., 0., 0., 0., 0., 0., 0., 0.],\n",
              "       [1., 0., 0., 0., 0., 0., 0., 0., 0., 0.],\n",
              "       [0., 0., 0., 0., 1., 0., 0., 0., 0., 0.],\n",
              "       [0., 1., 0., 0., 0., 0., 0., 0., 0., 0.],\n",
              "       [0., 0., 0., 0., 1., 0., 0., 0., 0., 0.],\n",
              "       [0., 0., 0., 0., 0., 0., 0., 0., 0., 1.],\n",
              "       [0., 0., 0., 0., 0., 1., 0., 0., 0., 0.]])"
            ]
          },
          "metadata": {
            "tags": []
          },
          "execution_count": 30
        }
      ]
    },
    {
      "metadata": {
        "id": "39JYNufYvkMl",
        "colab_type": "code",
        "colab": {
          "autoexec": {
            "startup": false,
            "wait_interval": 0
          }
        }
      },
      "cell_type": "code",
      "source": [
        "x = tf.placeholder(tf.float32, [None, 784])\n"
      ],
      "execution_count": 0,
      "outputs": []
    },
    {
      "metadata": {
        "id": "IPxypdRrt50X",
        "colab_type": "code",
        "colab": {
          "autoexec": {
            "startup": false,
            "wait_interval": 0
          }
        }
      },
      "cell_type": "code",
      "source": [
        "#initilize with zeros w with 784 in and 10 out , b will added in output\n",
        "W = tf.Variable(tf.zeros([784, 10]))\n",
        "b = tf.Variable(tf.zeros([10]))"
      ],
      "execution_count": 0,
      "outputs": []
    },
    {
      "metadata": {
        "id": "moIZO159upWI",
        "colab_type": "code",
        "colab": {
          "autoexec": {
            "startup": false,
            "wait_interval": 0
          }
        },
        "cellView": "code"
      },
      "cell_type": "code",
      "source": [
        "\n",
        "#model\n",
        "y = tf.nn.softmax(tf.matmul(x, W) + b)\n",
        "\n"
      ],
      "execution_count": 0,
      "outputs": []
    },
    {
      "metadata": {
        "id": "bGpOnBlpvYF2",
        "colab_type": "code",
        "colab": {
          "autoexec": {
            "startup": false,
            "wait_interval": 0
          }
        }
      },
      "cell_type": "code",
      "source": [
        "y_ = tf.placeholder(tf.float32, [None, 10])"
      ],
      "execution_count": 0,
      "outputs": []
    },
    {
      "metadata": {
        "id": "lx9KHnO42PdB",
        "colab_type": "code",
        "colab": {
          "autoexec": {
            "startup": false,
            "wait_interval": 0
          }
        }
      },
      "cell_type": "code",
      "source": [
        "#cross entropy to calculate loss\n",
        "\n",
        "cross_entropy = tf.reduce_mean(-tf.reduce_sum(y_ * tf.log(y), reduction_indices=[1]))"
      ],
      "execution_count": 0,
      "outputs": []
    },
    {
      "metadata": {
        "id": "Ef1hwYqN2axp",
        "colab_type": "code",
        "colab": {
          "autoexec": {
            "startup": false,
            "wait_interval": 0
          },
          "base_uri": "https://localhost:8080/",
          "height": 34
        },
        "outputId": "fceaa565-3334-434e-cefd-ae117d44c822",
        "executionInfo": {
          "status": "ok",
          "timestamp": 1527378630641,
          "user_tz": 240,
          "elapsed": 326,
          "user": {
            "displayName": "Kashish Patel",
            "photoUrl": "//lh5.googleusercontent.com/-sWzHMChrTbM/AAAAAAAAAAI/AAAAAAAABgM/VMzy12eB4jE/s50-c-k-no/photo.jpg",
            "userId": "107222208140970485188"
          }
        }
      },
      "cell_type": "code",
      "source": [
        "tf.nn.softmax_cross_entropy_with_logits"
      ],
      "execution_count": 56,
      "outputs": [
        {
          "output_type": "execute_result",
          "data": {
            "text/plain": [
              "<function tensorflow.python.ops.nn_ops.softmax_cross_entropy_with_logits>"
            ]
          },
          "metadata": {
            "tags": []
          },
          "execution_count": 56
        }
      ]
    },
    {
      "metadata": {
        "id": "HG8pFqFO3FZP",
        "colab_type": "code",
        "colab": {
          "autoexec": {
            "startup": false,
            "wait_interval": 0
          }
        }
      },
      "cell_type": "code",
      "source": [
        "#optimizer\n",
        "\n",
        "train_step = tf.train.GradientDescentOptimizer(0.5).minimize(cross_entropy)"
      ],
      "execution_count": 0,
      "outputs": []
    },
    {
      "metadata": {
        "id": "ppeLJgKy3Upr",
        "colab_type": "code",
        "colab": {
          "autoexec": {
            "startup": false,
            "wait_interval": 0
          }
        }
      },
      "cell_type": "code",
      "source": [
        "#session\n",
        "\n",
        "sess = tf.InteractiveSession()\n",
        "\n",
        "tf.global_variables_initializer().run()"
      ],
      "execution_count": 0,
      "outputs": []
    },
    {
      "metadata": {
        "id": "6jmODn_G3hPF",
        "colab_type": "code",
        "colab": {
          "autoexec": {
            "startup": false,
            "wait_interval": 0
          }
        }
      },
      "cell_type": "code",
      "source": [
        "for _ in range(1000):\n",
        "  batch_xs, batch_ys = mnist.train.next_batch(100)\n",
        "  sess.run(train_step, feed_dict={x: batch_xs, y_: batch_ys})"
      ],
      "execution_count": 0,
      "outputs": []
    },
    {
      "metadata": {
        "id": "uiC5fntU3n_Q",
        "colab_type": "code",
        "colab": {
          "autoexec": {
            "startup": false,
            "wait_interval": 0
          }
        }
      },
      "cell_type": "code",
      "source": [
        "#evaluation\n",
        "\n",
        "correct_prediction = tf.equal(tf.argmax(y,1), tf.argmax(y_,1))"
      ],
      "execution_count": 0,
      "outputs": []
    },
    {
      "metadata": {
        "id": "0WqPdRDV3xFF",
        "colab_type": "code",
        "colab": {
          "autoexec": {
            "startup": false,
            "wait_interval": 0
          }
        }
      },
      "cell_type": "code",
      "source": [
        "accuracy = tf.reduce_mean(tf.cast(correct_prediction, tf.float32))"
      ],
      "execution_count": 0,
      "outputs": []
    },
    {
      "metadata": {
        "id": "u6ShhqC634V4",
        "colab_type": "code",
        "colab": {
          "autoexec": {
            "startup": false,
            "wait_interval": 0
          },
          "base_uri": "https://localhost:8080/",
          "height": 34
        },
        "outputId": "5d2f44ef-0ff7-42ae-f669-802f341bd129",
        "executionInfo": {
          "status": "ok",
          "timestamp": 1527378852547,
          "user_tz": 240,
          "elapsed": 339,
          "user": {
            "displayName": "Kashish Patel",
            "photoUrl": "//lh5.googleusercontent.com/-sWzHMChrTbM/AAAAAAAAAAI/AAAAAAAABgM/VMzy12eB4jE/s50-c-k-no/photo.jpg",
            "userId": "107222208140970485188"
          }
        }
      },
      "cell_type": "code",
      "source": [
        "print(sess.run(accuracy, feed_dict={x: mnist.test.images, y_: mnist.test.labels}))"
      ],
      "execution_count": 62,
      "outputs": [
        {
          "output_type": "stream",
          "text": [
            "0.9203\n"
          ],
          "name": "stdout"
        }
      ]
    },
    {
      "metadata": {
        "id": "Y7WhIDMz37kU",
        "colab_type": "code",
        "colab": {
          "autoexec": {
            "startup": false,
            "wait_interval": 0
          }
        }
      },
      "cell_type": "code",
      "source": [
        ""
      ],
      "execution_count": 0,
      "outputs": []
    }
  ]
}